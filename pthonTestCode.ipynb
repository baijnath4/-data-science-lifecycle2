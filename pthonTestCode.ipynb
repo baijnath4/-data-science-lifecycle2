{
 "cells": [
  {
   "cell_type": "markdown",
   "id": "668d2783",
   "metadata": {},
   "source": [
    "▶️ Question 8:\n",
    "\n",
    "Write a Python function that takes a list of numbers and returns a list with each number squared"
   ]
  },
  {
   "cell_type": "code",
   "execution_count": 1,
   "id": "63fe59e7",
   "metadata": {},
   "outputs": [],
   "source": [
    "def listSq(numbers):\n",
    "    squared_list = []\n",
    "    for i in numbers:\n",
    "        squared_list.append(i ** 2)\n",
    "    return squared_list\n"
   ]
  },
  {
   "cell_type": "markdown",
   "id": "b937f5da",
   "metadata": {},
   "source": [
    "▶️ Question 9:\n",
    "\n",
    "Write a Python function that counts how many times each word appears in a given string"
   ]
  },
  {
   "cell_type": "code",
   "execution_count": 20,
   "id": "0321b39f",
   "metadata": {},
   "outputs": [
    {
     "data": {
      "text/plain": [
       "{'hello': 2, 'world': 1}"
      ]
     },
     "execution_count": 20,
     "metadata": {},
     "output_type": "execute_result"
    }
   ],
   "source": [
    "def countOfowrd(text):\n",
    "    wordlist = text.split()\n",
    "    word_dict = {}\n",
    "    for word in wordlist:\n",
    "        if word in word_dict:\n",
    "            word_dict[word]+=1\n",
    "        else:\n",
    "            word_dict[word]=1\n",
    "    return word_dict\n",
    "text = \"hello world hello\"\n",
    "countOfowrd(text=text)"
   ]
  },
  {
   "cell_type": "markdown",
   "id": "b0d38249",
   "metadata": {},
   "source": [
    "▶️ Question 10:\n",
    "\n",
    "Write Python code to read a CSV file into a DataFrame and show the first 5 rows."
   ]
  },
  {
   "cell_type": "code",
   "execution_count": null,
   "id": "f153e5f2",
   "metadata": {},
   "outputs": [],
   "source": [
    "import pandas as pd\n",
    "pd.read_csv('exported_table.csv',nrows=5)\n",
    "\n",
    "df = pd.read_csv('exported_table.csv')  # Read the entire CSV\n",
    "print(df.head())  # Show the first 5 rows"
   ]
  },
  {
   "cell_type": "markdown",
   "id": "145e2bd7",
   "metadata": {},
   "source": [
    "▶️ Question 11:\n",
    "\n",
    "You have a list of numbers. Write a function that returns only the even numbers from that list.\n",
    "Example input: [1, 2, 3, 4, 5, 6]\n",
    "Expected output: [2, 4, 6]"
   ]
  },
  {
   "cell_type": "code",
   "execution_count": 24,
   "id": "fcde6a38",
   "metadata": {},
   "outputs": [],
   "source": [
    "numberlist = [1, 2, 3, 4, 5, 6]"
   ]
  },
  {
   "cell_type": "code",
   "execution_count": 29,
   "id": "9b80c01a",
   "metadata": {},
   "outputs": [
    {
     "data": {
      "text/plain": [
       "[2, 4, 6]"
      ]
     },
     "execution_count": 29,
     "metadata": {},
     "output_type": "execute_result"
    }
   ],
   "source": [
    "def evenNumber(numberlist):\n",
    "    evenlist=[]\n",
    "    for i in numberlist:\n",
    "        if i%2==0:\n",
    "            evenlist.append(i)\n",
    "    return evenlist\n",
    "\n",
    "evenNumber(numberlist)"
   ]
  },
  {
   "cell_type": "markdown",
   "id": "b897a7e3",
   "metadata": {},
   "source": [
    "▶️ Question 12:\n",
    "\n",
    "How do you apply a function to every row of a DataFrame in Pandas?"
   ]
  },
  {
   "cell_type": "code",
   "execution_count": null,
   "id": "b17f9f25",
   "metadata": {},
   "outputs": [],
   "source": [
    "def add_ten(x):\n",
    "    return x + 10\n",
    "\n",
    "df['updated_marks'] = df['marks'].apply(add_ten)\n"
   ]
  },
  {
   "cell_type": "markdown",
   "id": "1991c8ea",
   "metadata": {},
   "source": [
    "▶️ Question 13:\n",
    "\n",
    "Write code to filter a DataFrame df where the 'age' column is greater than 30 and 'status' column is 'active'."
   ]
  },
  {
   "cell_type": "code",
   "execution_count": null,
   "id": "d42883e6",
   "metadata": {},
   "outputs": [],
   "source": [
    "[(df['age']>30),df['status']=='Active']\n",
    "\n",
    "df[(df['age'] > 30) & (df['status'] == 'Active')]\n"
   ]
  },
  {
   "cell_type": "markdown",
   "id": "f7730857",
   "metadata": {},
   "source": [
    "▶️ Question 14 (NumPy):\n",
    "\n",
    "How do you create a NumPy array of numbers from 1 to 10?\n",
    "Write the code."
   ]
  },
  {
   "cell_type": "code",
   "execution_count": 2,
   "id": "b7b3b6c6",
   "metadata": {},
   "outputs": [
    {
     "data": {
      "text/plain": [
       "array([ 1,  2,  3,  4,  5,  6,  7,  8,  9, 10])"
      ]
     },
     "execution_count": 2,
     "metadata": {},
     "output_type": "execute_result"
    }
   ],
   "source": [
    "import numpy as np\n",
    "arr = np.arange(1,11)\n",
    "arr"
   ]
  },
  {
   "cell_type": "markdown",
   "id": "9a7351aa",
   "metadata": {},
   "source": [
    "▶️ Question 15 (NumPy):\n",
    "\n",
    "How do you create a 2D NumPy array of shape (3, 3) filled with all zeros?"
   ]
  },
  {
   "cell_type": "code",
   "execution_count": 4,
   "id": "4267dd8c",
   "metadata": {},
   "outputs": [
    {
     "data": {
      "text/plain": [
       "array([[0., 0., 0.],\n",
       "       [0., 0., 0.],\n",
       "       [0., 0., 0.]])"
      ]
     },
     "execution_count": 4,
     "metadata": {},
     "output_type": "execute_result"
    }
   ],
   "source": [
    "np.zeros((3,3))"
   ]
  },
  {
   "cell_type": "markdown",
   "id": "176dd281",
   "metadata": {},
   "source": [
    "▶️ Question 16 (NumPy):\n",
    "\n",
    "How do you calculate the element-wise square of a NumPy array arr?\n",
    "Example: if arr = np.array([1, 2, 3]), the result should be [1, 4, 9]."
   ]
  },
  {
   "cell_type": "code",
   "execution_count": 5,
   "id": "1321af0b",
   "metadata": {},
   "outputs": [],
   "source": [
    "arr = np.array([1, 2, 3])"
   ]
  },
  {
   "cell_type": "code",
   "execution_count": 6,
   "id": "9e3a0a03",
   "metadata": {},
   "outputs": [
    {
     "data": {
      "text/plain": [
       "array([1, 4, 9])"
      ]
     },
     "execution_count": 6,
     "metadata": {},
     "output_type": "execute_result"
    }
   ],
   "source": [
    "arr**2"
   ]
  },
  {
   "cell_type": "markdown",
   "id": "27f3e732",
   "metadata": {},
   "source": [
    "▶️ Question 17 (NumPy):\n",
    "\n",
    "How do you get the shape (i.e., number of rows and columns) of a 2D NumPy array named arr2d?"
   ]
  },
  {
   "cell_type": "code",
   "execution_count": 8,
   "id": "827db7cc",
   "metadata": {},
   "outputs": [
    {
     "name": "stdout",
     "output_type": "stream",
     "text": [
      "(2, 3)\n"
     ]
    }
   ],
   "source": [
    "\n",
    "arr2d = np.array([[1, 2, 3], [4, 5, 6]])\n",
    "print(arr2d.shape)\n"
   ]
  },
  {
   "cell_type": "markdown",
   "id": "de0c71cc",
   "metadata": {},
   "source": [
    "▶️ Question 18 (NumPy):\n",
    "\n",
    "How do you compute the mean (average) of all elements in a NumPy array arr?\n",
    "Write the code."
   ]
  },
  {
   "cell_type": "code",
   "execution_count": 9,
   "id": "4dac1241",
   "metadata": {},
   "outputs": [
    {
     "data": {
      "text/plain": [
       "np.float64(3.5)"
      ]
     },
     "execution_count": 9,
     "metadata": {},
     "output_type": "execute_result"
    }
   ],
   "source": [
    "arr2d.mean()"
   ]
  },
  {
   "cell_type": "markdown",
   "id": "bf839b66",
   "metadata": {},
   "source": [
    "▶️ Question 19 (NumPy):\n",
    "\n",
    "How do you select the second row from a 2D NumPy array arr2d?"
   ]
  },
  {
   "cell_type": "code",
   "execution_count": 18,
   "id": "58ae227b",
   "metadata": {},
   "outputs": [
    {
     "data": {
      "text/plain": [
       "array([4, 5, 6])"
      ]
     },
     "execution_count": 18,
     "metadata": {},
     "output_type": "execute_result"
    }
   ],
   "source": [
    "aa =np.array([[1,2,3],[4,5,6]])\n",
    "aa[1]"
   ]
  },
  {
   "cell_type": "markdown",
   "id": "ceb00101",
   "metadata": {},
   "source": [
    "▶️ Question 20 (NumPy):\n",
    "\n",
    "How do you create a NumPy array of 10 random numbers between 0 and 1?"
   ]
  },
  {
   "cell_type": "code",
   "execution_count": 21,
   "id": "c2a88903",
   "metadata": {},
   "outputs": [
    {
     "data": {
      "text/plain": [
       "array([0.02562575, 0.08431667, 0.10519333, 0.97292397, 0.56367529,\n",
       "       0.62978452, 0.60305767, 0.27153061, 0.41313094, 0.3985308 ])"
      ]
     },
     "execution_count": 21,
     "metadata": {},
     "output_type": "execute_result"
    }
   ],
   "source": [
    "np.random.rand(10)"
   ]
  },
  {
   "cell_type": "markdown",
   "id": "33ac197f",
   "metadata": {},
   "source": []
  },
  {
   "cell_type": "code",
   "execution_count": 22,
   "id": "1b47cad6",
   "metadata": {},
   "outputs": [
    {
     "data": {
      "text/plain": [
       "array([0.32968124, 0.46488492, 0.16109255, 0.38640139, 0.73358342,\n",
       "       0.87455189, 0.42990294, 0.2264783 , 0.74882624, 0.70636274])"
      ]
     },
     "execution_count": 22,
     "metadata": {},
     "output_type": "execute_result"
    }
   ],
   "source": [
    "np.random.uniform(0,1,10)"
   ]
  },
  {
   "cell_type": "markdown",
   "id": "177929d2",
   "metadata": {},
   "source": [
    "▶️ Question 21 (NumPy):\n",
    "\n",
    "How do you reshape a NumPy array of shape (10,) into shape (2, 5)?"
   ]
  },
  {
   "cell_type": "code",
   "execution_count": 24,
   "id": "56ebf359",
   "metadata": {},
   "outputs": [],
   "source": [
    "array = np.arange(10)"
   ]
  },
  {
   "cell_type": "code",
   "execution_count": 25,
   "id": "f6bcc4b7",
   "metadata": {},
   "outputs": [
    {
     "data": {
      "text/plain": [
       "array([[0, 1, 2, 3, 4],\n",
       "       [5, 6, 7, 8, 9]])"
      ]
     },
     "execution_count": 25,
     "metadata": {},
     "output_type": "execute_result"
    }
   ],
   "source": [
    "array.reshape(2,5)"
   ]
  },
  {
   "cell_type": "markdown",
   "id": "7dbd710a",
   "metadata": {},
   "source": [
    "▶️ Question 22 (NumPy):\n",
    "\n",
    "How do you find the maximum value in a NumPy array arr?"
   ]
  },
  {
   "cell_type": "code",
   "execution_count": 31,
   "id": "170fb36c",
   "metadata": {},
   "outputs": [
    {
     "data": {
      "text/plain": [
       "array([123, 456])"
      ]
     },
     "execution_count": 31,
     "metadata": {},
     "output_type": "execute_result"
    }
   ],
   "source": [
    "aa1 = np.array([[123],[456]])\n",
    "# aa1.max()\n",
    "# aa1.max(axis=0)\n",
    "aa1.max(axis=1)"
   ]
  },
  {
   "cell_type": "markdown",
   "id": "bac8d548",
   "metadata": {},
   "source": [
    ".max() returns the maximum value in the entire array.\n",
    "\n",
    "Works for arrays of any shape (1D, 2D, etc.)."
   ]
  },
  {
   "cell_type": "markdown",
   "id": "7de7020a",
   "metadata": {},
   "source": [
    "▶️ Question 23 (NumPy):\n",
    "\n",
    "How do you get the index of the minimum value in a NumPy array?\n",
    "Write the code."
   ]
  },
  {
   "cell_type": "code",
   "execution_count": 45,
   "id": "65f0ce09",
   "metadata": {},
   "outputs": [],
   "source": [
    "arr2 = np.array([[1,2,3],[4,5,6]])\n"
   ]
  },
  {
   "cell_type": "code",
   "execution_count": 48,
   "id": "7a593e18",
   "metadata": {},
   "outputs": [
    {
     "name": "stdout",
     "output_type": "stream",
     "text": [
      "Minimum value is at row 0, column 0\n"
     ]
    }
   ],
   "source": [
    "flat_index = np.argmin(arr2)\n",
    "row, col = np.unravel_index(flat_index, arr2.shape)\n",
    "print(f\"Minimum value is at row {row}, column {col}\")"
   ]
  },
  {
   "cell_type": "markdown",
   "id": "ff26a924",
   "metadata": {},
   "source": [
    "▶️ Question 24 (NumPy):\n",
    "\n",
    "How do you stack two NumPy arrays a and b vertically (row-wise)?\n",
    "Assume both arrays are 2D and have the same number of columns."
   ]
  },
  {
   "cell_type": "code",
   "execution_count": 49,
   "id": "9a3cf29c",
   "metadata": {},
   "outputs": [
    {
     "name": "stdout",
     "output_type": "stream",
     "text": [
      "[[1 2]\n",
      " [3 4]\n",
      " [5 6]\n",
      " [7 8]]\n"
     ]
    }
   ],
   "source": [
    "a = np.array([[1, 2], [3, 4]])\n",
    "b = np.array([[5, 6], [7, 8]])\n",
    "\n",
    "result = np.vstack([a, b])\n",
    "print(result)"
   ]
  },
  {
   "cell_type": "code",
   "execution_count": 2,
   "id": "329ff368",
   "metadata": {},
   "outputs": [],
   "source": [
    "import matplotlib.pyplot as plt"
   ]
  },
  {
   "cell_type": "code",
   "execution_count": 63,
   "id": "d104ebd5",
   "metadata": {},
   "outputs": [
    {
     "data": {
      "image/png": "[encoded data removed]",
      "text/plain": [
       "<Figure size 640x480 with 1 Axes>"
      ]
     },
     "metadata": {},
     "output_type": "display_data"
    }
   ],
   "source": [
    "import matplotlib.pyplot as plt\n",
    "\n",
    "x = [1, 2, 3, 4]\n",
    "y = [10, 20, 25, 30]\n",
    "\n",
    "plt.plot(x, y)\n",
    "plt.title(\"Simple Line Plot\")\n",
    "plt.xlabel(\"X-axis\")\n",
    "plt.ylabel(\"Y-axis\")\n",
    "plt.show()\n"
   ]
  },
  {
   "cell_type": "markdown",
   "id": "5cebb9ae",
   "metadata": {},
   "source": [
    "▶️ Question 26 (Visualization):\n",
    "\n",
    "How do you create a bar chart using Matplotlib for the following data?"
   ]
  },
  {
   "cell_type": "code",
   "execution_count": 1,
   "id": "5bdb21a4",
   "metadata": {},
   "outputs": [],
   "source": [
    "categories = ['A', 'B', 'C']\n",
    "values = [10, 25, 15]"
   ]
  },
  {
   "cell_type": "code",
   "execution_count": 5,
   "id": "2b4796e6",
   "metadata": {},
   "outputs": [
    {
     "data": {
      "text/plain": [
       "Text(0, 0.5, 'categories')"
      ]
     },
     "execution_count": 5,
     "metadata": {},
     "output_type": "execute_result"
    },
    {
     "data": {
      "image/png": "[encoded data removed]",
      "text/plain": [
       "<Figure size 640x480 with 1 Axes>"
      ]
     },
     "metadata": {},
     "output_type": "display_data"
    }
   ],
   "source": [
    "plt.bar(categories,values)\n",
    "plt.title(\"Bar chart\")\n",
    "plt.xlabel(\"values\")\n",
    "plt.ylabel(\"categories\")"
   ]
  },
  {
   "cell_type": "code",
   "execution_count": null,
   "id": "961318e0",
   "metadata": {},
   "outputs": [],
   "source": []
  }
 ],
 "metadata": {
  "kernelspec": {
   "display_name": "Ms_agentic_hack_env",
   "language": "python",
   "name": "python3"
  },
  "language_info": {
   "codemirror_mode": {
    "name": "ipython",
    "version": 3
   },
   "file_extension": ".py",
   "mimetype": "text/x-python",
   "name": "python",
   "nbconvert_exporter": "python",
   "pygments_lexer": "ipython3",
   "version": "3.13.2"
  }
 },
 "nbformat": 4,
 "nbformat_minor": 5
}
